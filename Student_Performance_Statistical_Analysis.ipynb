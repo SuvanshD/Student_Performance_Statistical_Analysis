{
 "cells": [
  {
   "cell_type": "markdown",
   "id": "7feb8124-59a5-44ef-8a9a-aed7a2485dbf",
   "metadata": {},
   "source": [
    "## Import Libraries and Loading Dataset\r\n",
    "\r\n",
    "Let’s start the project by importing all necessary libraries for statistical analysis and loading the dataset.\r\n"
   ]
  },
  {
   "cell_type": "code",
   "execution_count": 2,
   "id": "46f303dd-86d5-4f7c-8a34-61d8f8f891d0",
   "metadata": {},
   "outputs": [],
   "source": [
    "# Import libraries\n",
    "\n",
    "import pandas as pd \n",
    "import numpy as np \n",
    "import seaborn as sns \n",
    "import matplotlib.pyplot as plt \n",
    "\n",
    "from scipy.stats import f_oneway, chi2_contingency, ttest_1samp, ttest_ind\n",
    "\n",
    "#Load Dataset\n",
    "df = pd.read_csv(\"StudentsPerformance.csv\")"
   ]
  },
  {
   "cell_type": "code",
   "execution_count": 3,
   "id": "fad517f0-bfed-44a7-9dcc-f8c3c92fc6c0",
   "metadata": {},
   "outputs": [
    {
     "data": {
      "text/plain": [
       "(1000, 8)"
      ]
     },
     "execution_count": 3,
     "metadata": {},
     "output_type": "execute_result"
    }
   ],
   "source": [
    "#size of the data\n",
    "df.shape "
   ]
  },
  {
   "cell_type": "code",
   "execution_count": 4,
   "id": "9d30c2aa-971c-45b6-8513-b053f696640c",
   "metadata": {},
   "outputs": [
    {
     "data": {
      "text/html": [
       "<div>\n",
       "<style scoped>\n",
       "    .dataframe tbody tr th:only-of-type {\n",
       "        vertical-align: middle;\n",
       "    }\n",
       "\n",
       "    .dataframe tbody tr th {\n",
       "        vertical-align: top;\n",
       "    }\n",
       "\n",
       "    .dataframe thead th {\n",
       "        text-align: right;\n",
       "    }\n",
       "</style>\n",
       "<table border=\"1\" class=\"dataframe\">\n",
       "  <thead>\n",
       "    <tr style=\"text-align: right;\">\n",
       "      <th></th>\n",
       "      <th>gender</th>\n",
       "      <th>race/ethnicity</th>\n",
       "      <th>parental level of education</th>\n",
       "      <th>lunch</th>\n",
       "      <th>test preparation course</th>\n",
       "      <th>math score</th>\n",
       "      <th>reading score</th>\n",
       "      <th>writing score</th>\n",
       "    </tr>\n",
       "  </thead>\n",
       "  <tbody>\n",
       "    <tr>\n",
       "      <th>0</th>\n",
       "      <td>female</td>\n",
       "      <td>group B</td>\n",
       "      <td>bachelor's degree</td>\n",
       "      <td>standard</td>\n",
       "      <td>none</td>\n",
       "      <td>72</td>\n",
       "      <td>72</td>\n",
       "      <td>74</td>\n",
       "    </tr>\n",
       "    <tr>\n",
       "      <th>1</th>\n",
       "      <td>female</td>\n",
       "      <td>group C</td>\n",
       "      <td>some college</td>\n",
       "      <td>standard</td>\n",
       "      <td>completed</td>\n",
       "      <td>69</td>\n",
       "      <td>90</td>\n",
       "      <td>88</td>\n",
       "    </tr>\n",
       "    <tr>\n",
       "      <th>2</th>\n",
       "      <td>female</td>\n",
       "      <td>group B</td>\n",
       "      <td>master's degree</td>\n",
       "      <td>standard</td>\n",
       "      <td>none</td>\n",
       "      <td>90</td>\n",
       "      <td>95</td>\n",
       "      <td>93</td>\n",
       "    </tr>\n",
       "    <tr>\n",
       "      <th>3</th>\n",
       "      <td>male</td>\n",
       "      <td>group A</td>\n",
       "      <td>associate's degree</td>\n",
       "      <td>free/reduced</td>\n",
       "      <td>none</td>\n",
       "      <td>47</td>\n",
       "      <td>57</td>\n",
       "      <td>44</td>\n",
       "    </tr>\n",
       "    <tr>\n",
       "      <th>4</th>\n",
       "      <td>male</td>\n",
       "      <td>group C</td>\n",
       "      <td>some college</td>\n",
       "      <td>standard</td>\n",
       "      <td>none</td>\n",
       "      <td>76</td>\n",
       "      <td>78</td>\n",
       "      <td>75</td>\n",
       "    </tr>\n",
       "  </tbody>\n",
       "</table>\n",
       "</div>"
      ],
      "text/plain": [
       "   gender race/ethnicity parental level of education         lunch  \\\n",
       "0  female        group B           bachelor's degree      standard   \n",
       "1  female        group C                some college      standard   \n",
       "2  female        group B             master's degree      standard   \n",
       "3    male        group A          associate's degree  free/reduced   \n",
       "4    male        group C                some college      standard   \n",
       "\n",
       "  test preparation course  math score  reading score  writing score  \n",
       "0                    none          72             72             74  \n",
       "1               completed          69             90             88  \n",
       "2                    none          90             95             93  \n",
       "3                    none          47             57             44  \n",
       "4                    none          76             78             75  "
      ]
     },
     "execution_count": 4,
     "metadata": {},
     "output_type": "execute_result"
    }
   ],
   "source": [
    "#display the top 5 records of the data\n",
    "df.head()"
   ]
  },
  {
   "cell_type": "markdown",
   "id": "21cd8f9a-acce-4a88-9c89-47139d155335",
   "metadata": {},
   "source": [
    "Let’s explore the data types of each variable and count missing or NULL values in the dataset.\r\n"
   ]
  },
  {
   "cell_type": "code",
   "execution_count": 6,
   "id": "aad8d7ac-956c-404a-8154-8d09f823ce46",
   "metadata": {},
   "outputs": [
    {
     "name": "stdout",
     "output_type": "stream",
     "text": [
      "<class 'pandas.core.frame.DataFrame'>\n",
      "RangeIndex: 1000 entries, 0 to 999\n",
      "Data columns (total 8 columns):\n",
      " #   Column                       Non-Null Count  Dtype \n",
      "---  ------                       --------------  ----- \n",
      " 0   gender                       1000 non-null   object\n",
      " 1   race/ethnicity               1000 non-null   object\n",
      " 2   parental level of education  1000 non-null   object\n",
      " 3   lunch                        1000 non-null   object\n",
      " 4   test preparation course      1000 non-null   object\n",
      " 5   math score                   1000 non-null   int64 \n",
      " 6   reading score                1000 non-null   int64 \n",
      " 7   writing score                1000 non-null   int64 \n",
      "dtypes: int64(3), object(5)\n",
      "memory usage: 62.6+ KB\n"
     ]
    }
   ],
   "source": [
    "# explore each variable and its data type \n",
    "df.info()"
   ]
  },
  {
   "cell_type": "markdown",
   "id": "e6439bff-6ee2-4803-9ee0-a19776af42ea",
   "metadata": {},
   "source": [
    "As we can see, this dataset has a mix of categorical and numerical features. Also, none of the features contain missing or NULL values."
   ]
  },
  {
   "cell_type": "markdown",
   "id": "0fa21756-ecb1-4af8-8387-fd56d3d430ba",
   "metadata": {},
   "source": [
    "## Measure of Central Tendency and Dispersion\r\n",
    "\r\n",
    "In this step, we will analyze numerical features by using measures of central tendency (mean) and dispersion (standard deviation). We will use the `describe` function provided by Pandas in Python.\r\n"
   ]
  },
  {
   "cell_type": "code",
   "execution_count": 9,
   "id": "4c884561-5d58-460d-8950-f72dccb29c12",
   "metadata": {},
   "outputs": [
    {
     "data": {
      "text/html": [
       "<div>\n",
       "<style scoped>\n",
       "    .dataframe tbody tr th:only-of-type {\n",
       "        vertical-align: middle;\n",
       "    }\n",
       "\n",
       "    .dataframe tbody tr th {\n",
       "        vertical-align: top;\n",
       "    }\n",
       "\n",
       "    .dataframe thead th {\n",
       "        text-align: right;\n",
       "    }\n",
       "</style>\n",
       "<table border=\"1\" class=\"dataframe\">\n",
       "  <thead>\n",
       "    <tr style=\"text-align: right;\">\n",
       "      <th></th>\n",
       "      <th>math score</th>\n",
       "      <th>reading score</th>\n",
       "      <th>writing score</th>\n",
       "    </tr>\n",
       "  </thead>\n",
       "  <tbody>\n",
       "    <tr>\n",
       "      <th>count</th>\n",
       "      <td>1000.00000</td>\n",
       "      <td>1000.000000</td>\n",
       "      <td>1000.000000</td>\n",
       "    </tr>\n",
       "    <tr>\n",
       "      <th>mean</th>\n",
       "      <td>66.08900</td>\n",
       "      <td>69.169000</td>\n",
       "      <td>68.054000</td>\n",
       "    </tr>\n",
       "    <tr>\n",
       "      <th>std</th>\n",
       "      <td>15.16308</td>\n",
       "      <td>14.600192</td>\n",
       "      <td>15.195657</td>\n",
       "    </tr>\n",
       "    <tr>\n",
       "      <th>min</th>\n",
       "      <td>0.00000</td>\n",
       "      <td>17.000000</td>\n",
       "      <td>10.000000</td>\n",
       "    </tr>\n",
       "    <tr>\n",
       "      <th>25%</th>\n",
       "      <td>57.00000</td>\n",
       "      <td>59.000000</td>\n",
       "      <td>57.750000</td>\n",
       "    </tr>\n",
       "    <tr>\n",
       "      <th>50%</th>\n",
       "      <td>66.00000</td>\n",
       "      <td>70.000000</td>\n",
       "      <td>69.000000</td>\n",
       "    </tr>\n",
       "    <tr>\n",
       "      <th>75%</th>\n",
       "      <td>77.00000</td>\n",
       "      <td>79.000000</td>\n",
       "      <td>79.000000</td>\n",
       "    </tr>\n",
       "    <tr>\n",
       "      <th>max</th>\n",
       "      <td>100.00000</td>\n",
       "      <td>100.000000</td>\n",
       "      <td>100.000000</td>\n",
       "    </tr>\n",
       "  </tbody>\n",
       "</table>\n",
       "</div>"
      ],
      "text/plain": [
       "       math score  reading score  writing score\n",
       "count  1000.00000    1000.000000    1000.000000\n",
       "mean     66.08900      69.169000      68.054000\n",
       "std      15.16308      14.600192      15.195657\n",
       "min       0.00000      17.000000      10.000000\n",
       "25%      57.00000      59.000000      57.750000\n",
       "50%      66.00000      70.000000      69.000000\n",
       "75%      77.00000      79.000000      79.000000\n",
       "max     100.00000     100.000000     100.000000"
      ]
     },
     "execution_count": 9,
     "metadata": {},
     "output_type": "execute_result"
    }
   ],
   "source": [
    "# explore the mean and standard deviation of numerical variables\n",
    "df.describe()"
   ]
  },
  {
   "cell_type": "markdown",
   "id": "08cdb1e2-c234-4235-9d2d-6cf4149f0c71",
   "metadata": {},
   "source": [
    "### Insights from the above figure\r\n",
    "\r\n",
    "- The average score is highest in reading and lowest in math.\r\n",
    "- The dispersion of values is highest in writing and lowest in reading.\r\n",
    "- Overall, there is no major difference in the mean and standard deviation among features.\r\n"
   ]
  },
  {
   "cell_type": "markdown",
   "id": "476ba2ee-2358-4af1-b6d8-07ff13204429",
   "metadata": {},
   "source": [
    "## Hypothesis Testing\r\n",
    "\r\n",
    "Hypothesis testing is a statistical method used to test whether a hypothesis about a population or sample is true or false. In hypothesis testing, we start with a null hypothesis. The null hypothesis generally states that there is no significant difference between the population parameter and a hypothesized value or between two variables/samples.\r\n",
    "\r\n",
    "In this step, we will test four different kinds of hypotheses using various techniques. In this entire analysis, our significance level is set to 0.05. It means that if, for a given hypothesis, the p-value is less than 0.05, then only we can reject the null hypothesis.\r\n",
    "\r\n",
    "### Hypothesis 1\r\n",
    "There is no significant difference between a student's performance in any skills - reading, writing, or math.\r\n",
    "\r\n",
    "**Null Hypothesis (Ho)**: There is no difference in the performance of students between math, reading, and writing skills.\r\n",
    "\r\n",
    "**Alternative Hypothesis (Ha)**: There is a difference in the performance of students between math, reading, and writing skills.\r\n",
    "\r\n",
    "We will use a one-way ANOVA test to validate this hypothesis. First, compare the histogram of each variable.\r\n"
   ]
  },
  {
   "cell_type": "code",
   "execution_count": 12,
   "id": "48a65b2e-3079-48ce-ae66-d52217d8d802",
   "metadata": {},
   "outputs": [
    {
     "name": "stderr",
     "output_type": "stream",
     "text": [
      "C:\\Users\\LENOVO\\AppData\\Local\\Temp\\ipykernel_13320\\3896523785.py:3: UserWarning: \n",
      "\n",
      "`distplot` is a deprecated function and will be removed in seaborn v0.14.0.\n",
      "\n",
      "Please adapt your code to use either `displot` (a figure-level function with\n",
      "similar flexibility) or `histplot` (an axes-level function for histograms).\n",
      "\n",
      "For a guide to updating your code to use the new functions, please see\n",
      "https://gist.github.com/mwaskom/de44147ed2974457ad6372750bbe5751\n",
      "\n",
      "  sns.distplot(df['math score'], label='math score')\n",
      "C:\\Users\\LENOVO\\AppData\\Local\\Temp\\ipykernel_13320\\3896523785.py:4: UserWarning: \n",
      "\n",
      "`distplot` is a deprecated function and will be removed in seaborn v0.14.0.\n",
      "\n",
      "Please adapt your code to use either `displot` (a figure-level function with\n",
      "similar flexibility) or `histplot` (an axes-level function for histograms).\n",
      "\n",
      "For a guide to updating your code to use the new functions, please see\n",
      "https://gist.github.com/mwaskom/de44147ed2974457ad6372750bbe5751\n",
      "\n",
      "  sns.distplot(df['reading score'], label='reading score')\n",
      "C:\\Users\\LENOVO\\AppData\\Local\\Temp\\ipykernel_13320\\3896523785.py:5: UserWarning: \n",
      "\n",
      "`distplot` is a deprecated function and will be removed in seaborn v0.14.0.\n",
      "\n",
      "Please adapt your code to use either `displot` (a figure-level function with\n",
      "similar flexibility) or `histplot` (an axes-level function for histograms).\n",
      "\n",
      "For a guide to updating your code to use the new functions, please see\n",
      "https://gist.github.com/mwaskom/de44147ed2974457ad6372750bbe5751\n",
      "\n",
      "  sns.distplot(df['writing score'], label='writing score')\n"
     ]
    },
    {
     "data": {
      "text/plain": [
       "<matplotlib.legend.Legend at 0x2c2aa21bf50>"
      ]
     },
     "execution_count": 12,
     "metadata": {},
     "output_type": "execute_result"
    },
    {
     "data": {
      "image/png": "[encoded data removed]",
      "text/plain": [
       "<Figure size 1200x600 with 1 Axes>"
      ]
     },
     "metadata": {},
     "output_type": "display_data"
    }
   ],
   "source": [
    "# compare histogram \n",
    "plt.figure(figsize=(12,6))\n",
    "sns.distplot(df['math score'], label='math score')\n",
    "sns.distplot(df['reading score'], label='reading score')\n",
    "sns.distplot(df['writing score'], label='writing score')\n",
    "plt.legend()"
   ]
  },
  {
   "cell_type": "markdown",
   "id": "7981b8a1-e523-4798-a5aa-438d0b7981dd",
   "metadata": {},
   "source": [
    "- As we can see, it seems that all three samples have the same population mean, and it seems there is no significant difference between them at all. Let’s apply a one-way ANOVA test on these variables."
   ]
  },
  {
   "cell_type": "code",
   "execution_count": 14,
   "id": "c19061a3-2364-4778-8758-c4f082460afe",
   "metadata": {},
   "outputs": [
    {
     "name": "stdout",
     "output_type": "stream",
     "text": [
      "P-Value for One Way ANOVA Test is - 2.0701893192229333e-05\n"
     ]
    }
   ],
   "source": [
    "# Applying one way ANOVA test\n",
    "one_way_anova_test = f_oneway(df['math score'], df['reading score'], df['writing score'])\n",
    "print('P-Value for One Way ANOVA Test is - {}'.format(one_way_anova_test.pvalue))"
   ]
  },
  {
   "cell_type": "markdown",
   "id": "6db01dc4-b254-4f4f-abfd-2e84c7aa2d77",
   "metadata": {},
   "source": [
    "Observed p-value in our hypothesis is **0.00207**, which is much lower than the significance level. This means there is a difference between the scores of each skill, and we can reject our null hypothesis. If the null hypothesis in the ANOVA test is rejected, we conclude that at least one of the population means is different. However, it doesn’t provide insight into which means are different.\r\n",
    "\r\n",
    "### Hypothesis 2\r\n",
    "There is no relation between the gender of a student and their corresponding academic performance.\r\n",
    "\r\n",
    "**Null Hypothesis (Ho)**: There is no relation between the gender of a student and their corresponding academic performance.\r\n",
    "\r\n",
    "**Alternative Hypothesis (Ha)**: There is a relation between the gender of a student and their corresponding academic performance.\r\n",
    "\r\n",
    "We will create a new feature representing whether a student failed or passed. We'll take the average of all three scores, and if the score is above 40, we will consider the student as passed. As these are categorical variables, we will use the **chi-square test of independence** to test the significance between these two variables.\r\n",
    "ch variable.\r\n",
    "riables.\r\n"
   ]
  },
  {
   "cell_type": "code",
   "execution_count": 16,
   "id": "6ecce37c-6567-4322-81b3-4360f9307a5f",
   "metadata": {},
   "outputs": [
    {
     "data": {
      "text/html": [
       "<div>\n",
       "<style scoped>\n",
       "    .dataframe tbody tr th:only-of-type {\n",
       "        vertical-align: middle;\n",
       "    }\n",
       "\n",
       "    .dataframe tbody tr th {\n",
       "        vertical-align: top;\n",
       "    }\n",
       "\n",
       "    .dataframe thead th {\n",
       "        text-align: right;\n",
       "    }\n",
       "</style>\n",
       "<table border=\"1\" class=\"dataframe\">\n",
       "  <thead>\n",
       "    <tr style=\"text-align: right;\">\n",
       "      <th>final_verdict</th>\n",
       "      <th>Fail</th>\n",
       "      <th>Pass</th>\n",
       "      <th>All</th>\n",
       "    </tr>\n",
       "    <tr>\n",
       "      <th>gender</th>\n",
       "      <th></th>\n",
       "      <th></th>\n",
       "      <th></th>\n",
       "    </tr>\n",
       "  </thead>\n",
       "  <tbody>\n",
       "    <tr>\n",
       "      <th>female</th>\n",
       "      <td>16</td>\n",
       "      <td>502</td>\n",
       "      <td>518</td>\n",
       "    </tr>\n",
       "    <tr>\n",
       "      <th>male</th>\n",
       "      <td>14</td>\n",
       "      <td>468</td>\n",
       "      <td>482</td>\n",
       "    </tr>\n",
       "    <tr>\n",
       "      <th>All</th>\n",
       "      <td>30</td>\n",
       "      <td>970</td>\n",
       "      <td>1000</td>\n",
       "    </tr>\n",
       "  </tbody>\n",
       "</table>\n",
       "</div>"
      ],
      "text/plain": [
       "final_verdict  Fail  Pass   All\n",
       "gender                         \n",
       "female           16   502   518\n",
       "male             14   468   482\n",
       "All              30   970  1000"
      ]
     },
     "execution_count": 16,
     "metadata": {},
     "output_type": "execute_result"
    }
   ],
   "source": [
    "# Create a new feature representing whether student passed or not\n",
    "df['overall_performance'] = (df['math score'] + df['reading score'] + df['writing score'])/3\n",
    "df['final_verdict'] = df['overall_performance'].apply(lambda i : 'Pass' if i>=40 else 'Fail')\n",
    "\n",
    "# create a contingency table based on the two categorical variables for the chi-square test.\n",
    "contingency_table = pd.crosstab(df['gender'], df['final_verdict'], margins=True)\n",
    "contingency_table"
   ]
  },
  {
   "cell_type": "markdown",
   "id": "01654ac8-9713-45f1-95e0-c7356c6e59e3",
   "metadata": {},
   "source": [
    "From this table, we can extract data for female students and male students and will use them to perform a chi-square test of independence."
   ]
  },
  {
   "cell_type": "code",
   "execution_count": 18,
   "id": "b44e5d60-e72d-4079-bbfa-4ace9077ec1b",
   "metadata": {},
   "outputs": [
    {
     "name": "stdout",
     "output_type": "stream",
     "text": [
      "P-value for Chi Square Test is - 1.0\n"
     ]
    }
   ],
   "source": [
    "# extract data for students of both genders\n",
    "female_data = contingency_table.iloc[0, :].values[0:2].tolist()\n",
    "male_data = contingency_table.iloc[1, :].values[0:2].tolist()\n",
    "\n",
    "# apply chi-square test \n",
    "chi_square_test = chi2_contingency(female_data,male_data)\n",
    "print('P-value for Chi Square Test is - {}'.format(chi_square_test.pvalue))"
   ]
  },
  {
   "cell_type": "markdown",
   "id": "e0485f75-97bf-4a20-8320-91b23bae2955",
   "metadata": {},
   "source": [
    "Since our observed p-value is less than the significance level, we can’t reject our null hypothesis.\r\n",
    "\r\n",
    "### Hypothesis 3\r\n",
    "An educational consultancy claims that students receive a mean score of 70 or more on average.\r\n",
    "\r\n",
    "**Null Hypothesis (Ho)**: The overall performance of students is greater than or equal to a score of 70.\r\n",
    "\r\n",
    "**Alternative Hypothesis (Ha)**: The overall performance of students is less than 70.\r\n",
    "\r\n",
    "In this hypothesis, we want to compare the sample's mean with the claimed population mean. For this, we will use the **one-sample t-test** (one-sided) to test this hypothesis.\r\n",
    "\r\n",
    "First, let’s explore the histogram of the overall performance in our dataset. As shown in the figure below, the mean of our sample is **67.77**, and most values are spread around **50-90**. Using the one-sample t-test, we will check whether this is just due to chance or is it representative of a larger population.\r\n"
   ]
  },
  {
   "cell_type": "code",
   "execution_count": 20,
   "id": "5c14822b-7640-4e29-a2c2-af7d1c530e79",
   "metadata": {},
   "outputs": [
    {
     "data": {
      "text/plain": [
       "<Axes: xlabel='overall_performance', ylabel='Count'>"
      ]
     },
     "execution_count": 20,
     "metadata": {},
     "output_type": "execute_result"
    },
    {
     "data": {
      "image/png": "[encoded data removed]",
      "text/plain": [
       "<Figure size 1200x600 with 1 Axes>"
      ]
     },
     "metadata": {},
     "output_type": "display_data"
    }
   ],
   "source": [
    "# Histogram of overall performance\n",
    "plt.figure(figsize=(12,6))\n",
    "sns.histplot(df['overall_performance'],kde=True, linewidth=False)    "
   ]
  },
  {
   "cell_type": "code",
   "execution_count": 21,
   "id": "46ec7ec4-e0b7-46ab-9022-168a6f3ed7f5",
   "metadata": {},
   "outputs": [
    {
     "ename": "NameError",
     "evalue": "name 't_test_ind_pvalue' is not defined",
     "output_type": "error",
     "traceback": [
      "\u001b[1;31m---------------------------------------------------------------------------\u001b[0m",
      "\u001b[1;31mNameError\u001b[0m                                 Traceback (most recent call last)",
      "Cell \u001b[1;32mIn[21], line 3\u001b[0m\n\u001b[0;32m      1\u001b[0m \u001b[38;5;66;03m# apply one sample t-test on the sample overall performance\u001b[39;00m\n\u001b[0;32m      2\u001b[0m t_test_samp\u001b[38;5;241m=\u001b[39m ttest_1samp(a\u001b[38;5;241m=\u001b[39mdf[\u001b[38;5;124m'\u001b[39m\u001b[38;5;124moverall_performance\u001b[39m\u001b[38;5;124m'\u001b[39m], popmean\u001b[38;5;241m=\u001b[39m\u001b[38;5;241m70\u001b[39m)\n\u001b[1;32m----> 3\u001b[0m \u001b[38;5;28mprint\u001b[39m(\u001b[38;5;124m'\u001b[39m\u001b[38;5;124mP-value for one sample t-test is - \u001b[39m\u001b[38;5;132;01m{}\u001b[39;00m\u001b[38;5;124m'\u001b[39m\u001b[38;5;241m.\u001b[39mformat(t_test_ind_pvalue\u001b[38;5;241m.\u001b[39mpvalue))\n",
      "\u001b[1;31mNameError\u001b[0m: name 't_test_ind_pvalue' is not defined"
     ]
    }
   ],
   "source": [
    "# apply one sample t-test on the sample overall performance\n",
    "t_test_samp= ttest_1samp(a=df['overall_performance'], popmean=70)\n",
    "print('P-value for one sample t-test is - {}'.format(t_test_ind_pvalue.pvalue))"
   ]
  },
  {
   "cell_type": "markdown",
   "id": "f9abc2c9-3484-4849-8db1-499a587e3beb",
   "metadata": {},
   "source": [
    "As the observed p-value is smaller than **0.05** (significance level), it provides strong evidence to reject the null hypothesis in favor of the alternative. Therefore, we can reject the educational consultancy’s claims.\r\n",
    "\r\n",
    "### Hypothesis 4\r\n",
    "There is no significant difference in the mean math scores of students who have taken test preparation and those who have not. Let’s define our hypotheses:\r\n",
    "\r\n",
    "**Null Hypothesis (Ho)**: There is no difference in students' math scores, irrespective of whether they have taken test preparation.\r\n",
    "\r\n",
    "**Alternative Hypothesis (Ha)**: There is a difference in students' math scores between those who have completed test preparation and those who have not.\r\n",
    "\r\n",
    "Here, we want to compare two samples and check whether they are statistically different. We will use a **two-sample t-test (independent t-test)** to check our hypothesis. \r\n",
    "\r\n",
    "Let’s explore the mean parameter of both samples. 📊\r\n"
   ]
  },
  {
   "cell_type": "code",
   "execution_count": null,
   "id": "ea9e60b6-58d8-43cf-968f-fddc4f3ad1d3",
   "metadata": {},
   "outputs": [],
   "source": [
    "# Explore mean of both samples\n",
    "print('Mean Math Score of Students With Test Preparation is - {}'.format(df[df['test preparation course'] == 'completed']['math score'].mean()))\n",
    "print('Mean Math Score of Students Withou Test Preparation is - {}'.format(df[df['test preparation course'] == 'none']['math score'].mean()))"
   ]
  },
  {
   "cell_type": "markdown",
   "id": "a0a9cd95-cc69-4459-9eb4-d421b8be03ae",
   "metadata": {},
   "source": [
    "As we can see, the average math score is higher in the case of the students who have completed the test preparation course. Let’s apply a two-sample t-test to check whether this is just due to chance or whether these are statistically significant."
   ]
  },
  {
   "cell_type": "code",
   "execution_count": null,
   "id": "ee83156f-7ddb-4767-b857-59f77c144ae0",
   "metadata": {},
   "outputs": [],
   "source": [
    "# apply two sample t-test\n",
    "t_test_ind = ttest_ind(df[df['test preparation course'] == 'completed']['math score'], df[df['test preparation course'] == 'none']['math score'])\n",
    "print('P-value for two sample t-test is - {}'.format(t_test_ind.pvalue))"
   ]
  },
  {
   "cell_type": "markdown",
   "id": "c5612223-8515-4b61-960f-34b2e0fa5c7e",
   "metadata": {},
   "source": [
    "As the observed p-value is smaller than **0.05** (significance level), it provides strong evidence to reject the null hypothesis in favor of the alternative.\n",
    "\n",
    "## Summary\n",
    "Let’s summarize our findings and insights from the statistical analysis of the student performance dataset below:\n",
    "\n",
    "- There is no major difference in the mean and standard deviation of the sample for scores in math, reading, and writing.\n",
    "- Students do not perform equally in math, reading, and writing skills, thus special attention must be given to those subjects in which students are not strong.\n",
    "- Gender does not play an important role in deciding a student’s overall academic performance.\n",
    "- The educational consultancy’s claim that, on average, students get a respectable score of **70** is false.\n",
    "- Students who have completed prior test preparation perform better.\n",
    "\n",
    "# Conclusion\n",
    "We loaded the student performance dataset containing details of students. We analyzed the mean and standard deviation of the features to understand their central tendency and dispersion. We performed hypothesis testing on four different kinds of hypotheses and tested them using techniques such as the one-way ANOVA test, chi-square test of independence, one-sample t-test, and independent t-test.\n"
   ]
  }
 ],
 "metadata": {
  "kernelspec": {
   "display_name": "Python 3 (ipykernel)",
   "language": "python",
   "name": "python3"
  },
  "language_info": {
   "codemirror_mode": {
    "name": "ipython",
    "version": 3
   },
   "file_extension": ".py",
   "mimetype": "text/x-python",
   "name": "python",
   "nbconvert_exporter": "python",
   "pygments_lexer": "ipython3",
   "version": "3.12.4"
  }
 },
 "nbformat": 4,
 "nbformat_minor": 5
}
